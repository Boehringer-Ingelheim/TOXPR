{
 "cells": [
  {
   "cell_type": "markdown",
   "metadata": {},
   "source": [
    "# Acute Toxicity Models"
   ]
  },
  {
   "cell_type": "markdown",
   "metadata": {},
   "source": [
    "### Load models"
   ]
  },
  {
   "cell_type": "code",
   "execution_count": 6,
   "metadata": {},
   "outputs": [
    {
     "name": "stdout",
     "output_type": "stream",
     "text": [
      "Loading:  acute_tox_atf.pt\n",
      "Loading:  acute_tox_gcn.pt\n",
      "Loading:  acute_tox_mpnn.pt\n",
      "Loading:  acute_tox_dnn.pt\n",
      "Loading:  chemberta\n"
     ]
    },
    {
     "name": "stderr",
     "output_type": "stream",
     "text": [
      "/scratch/rottach/miniconda3/envs/tox/lib/python3.8/site-packages/sklearn/base.py:348: InconsistentVersionWarning: Trying to unpickle estimator LabelBinarizer from version 1.0.2 when using version 1.3.2. This might lead to breaking code or invalid results. Use at your own risk. For more info please refer to:\n",
      "https://scikit-learn.org/stable/model_persistence.html#security-maintainability-limitations\n",
      "  warnings.warn(\n",
      "/scratch/rottach/miniconda3/envs/tox/lib/python3.8/site-packages/sklearn/base.py:348: InconsistentVersionWarning: Trying to unpickle estimator MLPClassifier from version 1.0.2 when using version 1.3.2. This might lead to breaking code or invalid results. Use at your own risk. For more info please refer to:\n",
      "https://scikit-learn.org/stable/model_persistence.html#security-maintainability-limitations\n",
      "  warnings.warn(\n",
      "/scratch/rottach/miniconda3/envs/tox/lib/python3.8/site-packages/transformers/pipelines/text_classification.py:105: UserWarning: `return_all_scores` is now deprecated,  if want a similar functionality use `top_k=None` instead of `return_all_scores=True` or `top_k=1` instead of `return_all_scores=False`.\n",
      "  warnings.warn(\n"
     ]
    }
   ],
   "source": [
    "import torch\n",
    "import pickle\n",
    "assert torch.cuda.is_available()\n",
    "from transformers import TextClassificationPipeline\n",
    "from transformers import AutoTokenizer\n",
    "from transformers import AutoModelForSequenceClassification\n",
    "\n",
    "# Load models\n",
    "deepchem_models = [\"acute_tox_atf.pt\", \"acute_tox_gcn.pt\", \"acute_tox_mpnn.pt\"]\n",
    "sklearn_models = [\"acute_tox_dnn.pt\"]\n",
    "transformers_models = [\"chemberta\"]\n",
    "\n",
    "models = []\n",
    "\n",
    "for m in deepchem_models:\n",
    "    print(\"Loading: \", m)\n",
    "    models.append(torch.load(\"models/\" + m))\n",
    "\n",
    "for m in sklearn_models:\n",
    "    print(\"Loading: \", m)\n",
    "    with open(f\"models/{m}\", 'rb') as f:\n",
    "        models.append(pickle.load(f))\n",
    "\n",
    "for m in transformers_models:\n",
    "    print(\"Loading: \", m)\n",
    "    tokenizer = AutoTokenizer.from_pretrained(f\"models/{m}\")\n",
    "    if tokenizer.pad_token is None:\n",
    "        tokenizer.add_special_tokens({\"pad_token\": \"[PAD]\"})\n",
    "    model = AutoModelForSequenceClassification.from_pretrained(f\"models/{m}\", num_labels=5, ignore_mismatched_sizes=True)\n",
    "    pipe = TextClassificationPipeline(model=model.to(\"cpu\"), tokenizer=tokenizer, return_all_scores=True)\n",
    "    models.append(pipe)"
   ]
  },
  {
   "cell_type": "markdown",
   "metadata": {},
   "source": [
    "### Prepare data"
   ]
  },
  {
   "cell_type": "code",
   "execution_count": 7,
   "metadata": {},
   "outputs": [
    {
     "data": {
      "text/html": [
       "<div>\n",
       "<style scoped>\n",
       "    .dataframe tbody tr th:only-of-type {\n",
       "        vertical-align: middle;\n",
       "    }\n",
       "\n",
       "    .dataframe tbody tr th {\n",
       "        vertical-align: top;\n",
       "    }\n",
       "\n",
       "    .dataframe thead th {\n",
       "        text-align: right;\n",
       "    }\n",
       "</style>\n",
       "<table border=\"1\" class=\"dataframe\">\n",
       "  <thead>\n",
       "    <tr style=\"text-align: right;\">\n",
       "      <th></th>\n",
       "      <th>label</th>\n",
       "      <th>smiles</th>\n",
       "    </tr>\n",
       "  </thead>\n",
       "  <tbody>\n",
       "    <tr>\n",
       "      <th>0</th>\n",
       "      <td>1</td>\n",
       "      <td>CNC(=O)O/N=C(\\CS(C)=O)C(C)(C)C</td>\n",
       "    </tr>\n",
       "    <tr>\n",
       "      <th>1</th>\n",
       "      <td>1</td>\n",
       "      <td>CC(C(=O)O)c1ccc(C(=O)c2cccs2)cc1</td>\n",
       "    </tr>\n",
       "    <tr>\n",
       "      <th>2</th>\n",
       "      <td>1</td>\n",
       "      <td>O=C1[C@@H]2[C@@H]3O[C@H]3[C@H]1[C@H]1[C@@H]2[C...</td>\n",
       "    </tr>\n",
       "    <tr>\n",
       "      <th>3</th>\n",
       "      <td>1</td>\n",
       "      <td>COP(C)(=O)SC</td>\n",
       "    </tr>\n",
       "    <tr>\n",
       "      <th>4</th>\n",
       "      <td>3</td>\n",
       "      <td>CC(N)[C@H]1CC[C@H](c2ccc(N)cc2)CC1</td>\n",
       "    </tr>\n",
       "  </tbody>\n",
       "</table>\n",
       "</div>"
      ],
      "text/plain": [
       "  label                                             smiles\n",
       "0     1                     CNC(=O)O/N=C(\\CS(C)=O)C(C)(C)C\n",
       "1     1                   CC(C(=O)O)c1ccc(C(=O)c2cccs2)cc1\n",
       "2     1  O=C1[C@@H]2[C@@H]3O[C@H]3[C@H]1[C@H]1[C@@H]2[C...\n",
       "3     1                                       COP(C)(=O)SC\n",
       "4     3                 CC(N)[C@H]1CC[C@H](c2ccc(N)cc2)CC1"
      ]
     },
     "execution_count": 7,
     "metadata": {},
     "output_type": "execute_result"
    }
   ],
   "source": [
    "from rdkit import Chem\n",
    "import pandas as pd\n",
    "\n",
    "# GHS Class mapping (use if needed)\n",
    "def map_to_ghs_class(x):\n",
    "    if x <= 5:\n",
    "        return 0\n",
    "    if x <= 50:\n",
    "        return 1\n",
    "    if x <= 300:\n",
    "        return 2\n",
    "    if x <= 2000:\n",
    "        return 3\n",
    "    else:\n",
    "        return 4\n",
    "\n",
    "\n",
    "# Load SDF file\n",
    "supplier = Chem.SDMolSupplier('data/external_validation_data.sdf')\n",
    "\n",
    "# Initialize lists to store molecule names and SMILES strings\n",
    "molecule_labels = []\n",
    "smiles_strings = []\n",
    "\n",
    "# Iterate over molecules in the SDF file\n",
    "for molecule in supplier:\n",
    "    if molecule is not None:\n",
    "        # Get the molecule name\n",
    "        molecule_name = molecule.GetProp('GHS Class')\n",
    "        molecule_labels.append(molecule_name)\n",
    "\n",
    "        # Convert the molecule to a SMILES string\n",
    "        smiles_string = Chem.MolToSmiles(molecule)\n",
    "        smiles_strings.append(smiles_string)\n",
    "\n",
    "# Create a DataFrame from the molecule names and SMILES strings\n",
    "df = pd.DataFrame({\n",
    "    'label': molecule_labels,\n",
    "    'smiles': smiles_strings\n",
    "})\n",
    "\n",
    "# Only take subset for predictions\n",
    "df = df.head(500)\n",
    "\n",
    "df.head()"
   ]
  },
  {
   "cell_type": "code",
   "execution_count": 8,
   "metadata": {},
   "outputs": [
    {
     "data": {
      "text/plain": [
       "<AxesSubplot: xlabel='label', ylabel='count'>"
      ]
     },
     "execution_count": 8,
     "metadata": {},
     "output_type": "execute_result"
    },
    {
     "data": {
      "image/png": "[encoded data removed]",
      "text/plain": [
       "<Figure size 640x480 with 1 Axes>"
      ]
     },
     "metadata": {},
     "output_type": "display_data"
    }
   ],
   "source": [
    "import seaborn as sns\n",
    "\n",
    "sns.countplot(df.sort_values(by=\"label\"), x=\"label\")"
   ]
  },
  {
   "cell_type": "markdown",
   "metadata": {},
   "source": [
    "### Compute Consensus prediction"
   ]
  },
  {
   "cell_type": "code",
   "execution_count": 9,
   "metadata": {},
   "outputs": [],
   "source": [
    "from featurizers import GraphFeaturizer, MorganFeaturizer\n",
    "from utils import stack_graph_arrays\n",
    "\n",
    "g_featurizer = GraphFeaturizer()\n",
    "m_featurizer = MorganFeaturizer()\n",
    "df[\"Graph\"] = df[\"smiles\"].apply(g_featurizer)\n",
    "df[\"Fingerprints\"] = df[\"smiles\"].apply(m_featurizer)\n",
    "graphs = stack_graph_arrays(df)"
   ]
  },
  {
   "cell_type": "code",
   "execution_count": 50,
   "metadata": {},
   "outputs": [
    {
     "name": "stderr",
     "output_type": "stream",
     "text": [
      "100%|██████████| 500/500 [02:55<00:00,  2.85it/s]\n"
     ]
    }
   ],
   "source": [
    "import numpy as np \n",
    "from tqdm import tqdm\n",
    "\n",
    "# Run inference on CPU\n",
    "for model in models:\n",
    "    if \"deepchem\" in str(type(model)):\n",
    "        model.to(\"cpu\")\n",
    "\n",
    "predictions = []\n",
    "for i, graph in enumerate(tqdm(graphs)):\n",
    "    model_preds = []\n",
    "    for model in models:   \n",
    "        if \"deepchem\" in str(type(model)):\n",
    "            payload = graph.to_dgl_graph()\n",
    "            model_preds.append(model(payload)[0].detach().numpy().squeeze())\n",
    "        if \"transformers\" in str(type(model)):\n",
    "            pred = model(df[\"smiles\"].iloc[i])[0]\n",
    "            scores = np.array([s[\"score\"] for s in pred])\n",
    "            model_preds.append(scores)\n",
    "        if \"sklearn\" in str(type(model)):\n",
    "            mol = np.array(df[\"Fingerprints\"].iloc[i]).reshape(1, -1)\n",
    "            model_preds.append(model.predict_proba(mol).squeeze())     \n",
    "    \n",
    "    # Aggregate model predictions\n",
    "    predictions.append(np.sum(model_preds, axis=0))"
   ]
  },
  {
   "cell_type": "code",
   "execution_count": 51,
   "metadata": {},
   "outputs": [],
   "source": [
    "df[\"consensus_preds\"] = predictions\n",
    "df[\"pred\"] = df[\"consensus_preds\"].apply(lambda x: x.argmax())"
   ]
  },
  {
   "cell_type": "code",
   "execution_count": 52,
   "metadata": {},
   "outputs": [
    {
     "data": {
      "text/html": [
       "<div>\n",
       "<style scoped>\n",
       "    .dataframe tbody tr th:only-of-type {\n",
       "        vertical-align: middle;\n",
       "    }\n",
       "\n",
       "    .dataframe tbody tr th {\n",
       "        vertical-align: top;\n",
       "    }\n",
       "\n",
       "    .dataframe thead th {\n",
       "        text-align: right;\n",
       "    }\n",
       "</style>\n",
       "<table border=\"1\" class=\"dataframe\">\n",
       "  <thead>\n",
       "    <tr style=\"text-align: right;\">\n",
       "      <th></th>\n",
       "      <th>label</th>\n",
       "      <th>smiles</th>\n",
       "      <th>Graph</th>\n",
       "      <th>Fingerprints</th>\n",
       "      <th>consensus_preds</th>\n",
       "      <th>pred</th>\n",
       "    </tr>\n",
       "  </thead>\n",
       "  <tbody>\n",
       "    <tr>\n",
       "      <th>0</th>\n",
       "      <td>1</td>\n",
       "      <td>CNC(=O)O/N=C(\\CS(C)=O)C(C)(C)C</td>\n",
       "      <td>[[1.0, 1.0, 0.0, 0.0, 0.0, 0.0, 0.0, 0.0, 0.0,...</td>\n",
       "      <td>[0, 0, 0, 0, 0, 0, 0, 0, 0, 0, 0, 0, 0, 0, 0, ...</td>\n",
       "      <td>[3.752301442195752, 1.0661620882510283, 0.1099...</td>\n",
       "      <td>0</td>\n",
       "    </tr>\n",
       "    <tr>\n",
       "      <th>1</th>\n",
       "      <td>1</td>\n",
       "      <td>CC(C(=O)O)c1ccc(C(=O)c2cccs2)cc1</td>\n",
       "      <td>[[1.0, 1.0, 0.0, 0.0, 0.0, 0.0, 0.0, 0.0, 0.0,...</td>\n",
       "      <td>[0, 1, 0, 0, 0, 0, 0, 0, 0, 1, 0, 0, 0, 0, 1, ...</td>\n",
       "      <td>[0.05062324606702784, 0.08697489386245204, 3.2...</td>\n",
       "      <td>2</td>\n",
       "    </tr>\n",
       "    <tr>\n",
       "      <th>2</th>\n",
       "      <td>1</td>\n",
       "      <td>O=C1[C@@H]2[C@@H]3O[C@H]3[C@H]1[C@H]1[C@@H]2[C...</td>\n",
       "      <td>[[1.0, 1.0, 0.0, 0.0, 0.0, 0.0, 0.0, 0.0, 0.0,...</td>\n",
       "      <td>[0, 0, 0, 0, 0, 0, 0, 0, 0, 0, 0, 0, 0, 0, 0, ...</td>\n",
       "      <td>[0.6601844826621475, 0.7743181880374013, 2.416...</td>\n",
       "      <td>2</td>\n",
       "    </tr>\n",
       "    <tr>\n",
       "      <th>3</th>\n",
       "      <td>1</td>\n",
       "      <td>COP(C)(=O)SC</td>\n",
       "      <td>[[1.0, 1.0, 0.0, 0.0, 0.0, 0.0, 0.0, 1.0, 1.0,...</td>\n",
       "      <td>[0, 0, 0, 0, 0, 0, 0, 0, 0, 0, 0, 0, 0, 0, 0, ...</td>\n",
       "      <td>[1.1555210541931296, 1.5926910618200782, 1.570...</td>\n",
       "      <td>1</td>\n",
       "    </tr>\n",
       "    <tr>\n",
       "      <th>4</th>\n",
       "      <td>3</td>\n",
       "      <td>CC(N)[C@H]1CC[C@H](c2ccc(N)cc2)CC1</td>\n",
       "      <td>[[1.0, 1.0, 0.0, 0.0, 0.0, 0.0, 0.0, 0.0, 0.0,...</td>\n",
       "      <td>[0, 1, 0, 0, 0, 0, 0, 0, 0, 0, 0, 0, 0, 0, 0, ...</td>\n",
       "      <td>[0.007757664062422197, 0.15515103047451687, 1....</td>\n",
       "      <td>3</td>\n",
       "    </tr>\n",
       "  </tbody>\n",
       "</table>\n",
       "</div>"
      ],
      "text/plain": [
       "  label                                             smiles  \\\n",
       "0     1                     CNC(=O)O/N=C(\\CS(C)=O)C(C)(C)C   \n",
       "1     1                   CC(C(=O)O)c1ccc(C(=O)c2cccs2)cc1   \n",
       "2     1  O=C1[C@@H]2[C@@H]3O[C@H]3[C@H]1[C@H]1[C@@H]2[C...   \n",
       "3     1                                       COP(C)(=O)SC   \n",
       "4     3                 CC(N)[C@H]1CC[C@H](c2ccc(N)cc2)CC1   \n",
       "\n",
       "                                               Graph  \\\n",
       "0  [[1.0, 1.0, 0.0, 0.0, 0.0, 0.0, 0.0, 0.0, 0.0,...   \n",
       "1  [[1.0, 1.0, 0.0, 0.0, 0.0, 0.0, 0.0, 0.0, 0.0,...   \n",
       "2  [[1.0, 1.0, 0.0, 0.0, 0.0, 0.0, 0.0, 0.0, 0.0,...   \n",
       "3  [[1.0, 1.0, 0.0, 0.0, 0.0, 0.0, 0.0, 1.0, 1.0,...   \n",
       "4  [[1.0, 1.0, 0.0, 0.0, 0.0, 0.0, 0.0, 0.0, 0.0,...   \n",
       "\n",
       "                                        Fingerprints  \\\n",
       "0  [0, 0, 0, 0, 0, 0, 0, 0, 0, 0, 0, 0, 0, 0, 0, ...   \n",
       "1  [0, 1, 0, 0, 0, 0, 0, 0, 0, 1, 0, 0, 0, 0, 1, ...   \n",
       "2  [0, 0, 0, 0, 0, 0, 0, 0, 0, 0, 0, 0, 0, 0, 0, ...   \n",
       "3  [0, 0, 0, 0, 0, 0, 0, 0, 0, 0, 0, 0, 0, 0, 0, ...   \n",
       "4  [0, 1, 0, 0, 0, 0, 0, 0, 0, 0, 0, 0, 0, 0, 0, ...   \n",
       "\n",
       "                                     consensus_preds  pred  \n",
       "0  [3.752301442195752, 1.0661620882510283, 0.1099...     0  \n",
       "1  [0.05062324606702784, 0.08697489386245204, 3.2...     2  \n",
       "2  [0.6601844826621475, 0.7743181880374013, 2.416...     2  \n",
       "3  [1.1555210541931296, 1.5926910618200782, 1.570...     1  \n",
       "4  [0.007757664062422197, 0.15515103047451687, 1....     3  "
      ]
     },
     "execution_count": 52,
     "metadata": {},
     "output_type": "execute_result"
    }
   ],
   "source": [
    "df.head()"
   ]
  },
  {
   "cell_type": "code",
   "execution_count": 53,
   "metadata": {},
   "outputs": [
    {
     "data": {
      "text/plain": [
       "<sklearn.metrics._plot.confusion_matrix.ConfusionMatrixDisplay at 0x7fb78c28bfa0>"
      ]
     },
     "execution_count": 53,
     "metadata": {},
     "output_type": "execute_result"
    },
    {
     "data": {
      "image/png": "[encoded data removed]",
      "text/plain": [
       "<Figure size 640x480 with 2 Axes>"
      ]
     },
     "metadata": {},
     "output_type": "display_data"
    }
   ],
   "source": [
    "from sklearn.metrics import confusion_matrix, ConfusionMatrixDisplay\n",
    "cm = confusion_matrix(df[\"label\"].astype(int) - 1, df[\"pred\"])\n",
    "disp = ConfusionMatrixDisplay(confusion_matrix=cm)\n",
    "disp.plot()"
   ]
  }
 ],
 "metadata": {
  "kernelspec": {
   "display_name": "toxpred",
   "language": "python",
   "name": "python3"
  },
  "language_info": {
   "codemirror_mode": {
    "name": "ipython",
    "version": 3
   },
   "file_extension": ".py",
   "mimetype": "text/x-python",
   "name": "python",
   "nbconvert_exporter": "python",
   "pygments_lexer": "ipython3",
   "version": "3.8.18"
  }
 },
 "nbformat": 4,
 "nbformat_minor": 2
}
